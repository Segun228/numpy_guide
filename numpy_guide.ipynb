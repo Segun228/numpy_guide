{
 "cells": [
  {
   "cell_type": "markdown",
   "id": "d8f4cf8a",
   "metadata": {},
   "source": [
    "# Numpy"
   ]
  },
  {
   "cell_type": "markdown",
   "id": "c3a68d13",
   "metadata": {},
   "source": [
    "## Lesson 1"
   ]
  },
  {
   "cell_type": "markdown",
   "id": "6d10077f",
   "metadata": {},
   "source": [
    "### Importing numpy to the project"
   ]
  },
  {
   "cell_type": "code",
   "execution_count": 124,
   "id": "490f293e",
   "metadata": {},
   "outputs": [],
   "source": [
    "import numpy as np"
   ]
  },
  {
   "cell_type": "markdown",
   "id": "db9a5086",
   "metadata": {},
   "source": [
    "### Creating numpy array"
   ]
  },
  {
   "cell_type": "code",
   "execution_count": 125,
   "id": "b9a8d4c4",
   "metadata": {},
   "outputs": [
    {
     "data": {
      "text/plain": [
       "array([1, 2, 3, 4])"
      ]
     },
     "execution_count": 125,
     "metadata": {},
     "output_type": "execute_result"
    }
   ],
   "source": [
    "object = [1, 2, 3, 4]\n",
    "np.array(object)"
   ]
  },
  {
   "cell_type": "markdown",
   "id": "ffcd88d9",
   "metadata": {},
   "source": [
    "### Special features"
   ]
  },
  {
   "cell_type": "markdown",
   "id": "827f273e",
   "metadata": {},
   "source": [
    "### Getting entities from the array"
   ]
  },
  {
   "cell_type": "code",
   "execution_count": 126,
   "id": "a7c15a4f",
   "metadata": {},
   "outputs": [
    {
     "data": {
      "text/plain": [
       "18"
      ]
     },
     "execution_count": 126,
     "metadata": {},
     "output_type": "execute_result"
    }
   ],
   "source": [
    "array_3d = np.array([\n",
    "    [\n",
    "        [1, 2, 3, 4],\n",
    "        [5, 6, 7, 8],\n",
    "        [9, 10, 11, 12]\n",
    "    ],\n",
    "    [\n",
    "        [13, 14, 15, 16],\n",
    "        [17, 18, 19, 20],\n",
    "        [21, 22, 23, 24]\n",
    "    ]\n",
    "])\n",
    "\n",
    "array_3d[(1, 1, 1)]\n"
   ]
  },
  {
   "cell_type": "markdown",
   "id": "e6111912",
   "metadata": {},
   "source": [
    "### Changing entities in the array"
   ]
  },
  {
   "cell_type": "code",
   "execution_count": 127,
   "id": "85e17c46",
   "metadata": {},
   "outputs": [
    {
     "data": {
      "text/plain": [
       "777"
      ]
     },
     "execution_count": 127,
     "metadata": {},
     "output_type": "execute_result"
    }
   ],
   "source": [
    "array_3d[(1, 1, 1)] = 777\n",
    "array_3d[(1, 1, 1)]"
   ]
  },
  {
   "cell_type": "markdown",
   "id": "b032a892",
   "metadata": {},
   "source": [
    "### Array from exact element"
   ]
  },
  {
   "cell_type": "code",
   "execution_count": 128,
   "id": "d99e4898",
   "metadata": {},
   "outputs": [
    {
     "data": {
      "text/plain": [
       "array([2, 2, 2, 2, 2, 2])"
      ]
     },
     "execution_count": 128,
     "metadata": {},
     "output_type": "execute_result"
    }
   ],
   "source": [
    "object = [1, 2, 3, 4, 5]\n",
    "a = np.array(object)\n",
    "a[[1, 1, 1, 1, 1, 1]]"
   ]
  },
  {
   "cell_type": "markdown",
   "id": "045106b7",
   "metadata": {},
   "source": [
    "### Boolean array"
   ]
  },
  {
   "cell_type": "code",
   "execution_count": 129,
   "id": "ed8bd7ef",
   "metadata": {},
   "outputs": [
    {
     "data": {
      "text/plain": [
       "array([1, 2, 5])"
      ]
     },
     "execution_count": 129,
     "metadata": {},
     "output_type": "execute_result"
    }
   ],
   "source": [
    "object = [1, 2, 3, 4, 5]\n",
    "a = np.array(object)\n",
    "a[[True, True, False, False, True]]"
   ]
  },
  {
   "cell_type": "markdown",
   "id": "a550fcbd",
   "metadata": {},
   "source": [
    "### Reshape function"
   ]
  },
  {
   "cell_type": "code",
   "execution_count": 130,
   "id": "c4b53f8e",
   "metadata": {},
   "outputs": [
    {
     "data": {
      "text/plain": [
       "array([[1, 2, 3],\n",
       "       [4, 5, 6],\n",
       "       [7, 8, 9]])"
      ]
     },
     "execution_count": 130,
     "metadata": {},
     "output_type": "execute_result"
    }
   ],
   "source": [
    "object = [1, 2, 3, 4, 5, 6, 7, 8, 9]\n",
    "a = np.array(object)\n",
    "a.reshape(3, 3)"
   ]
  },
  {
   "cell_type": "markdown",
   "id": "a7a63219",
   "metadata": {},
   "source": [
    "## Lesson 2"
   ]
  },
  {
   "cell_type": "markdown",
   "id": "df1167b2",
   "metadata": {},
   "source": [
    "### Array function"
   ]
  },
  {
   "cell_type": "code",
   "execution_count": 131,
   "id": "8e983609",
   "metadata": {},
   "outputs": [],
   "source": [
    "some_array = np.array([1, 2, 3, 4, 5]) # Will create an array from a list\n",
    "\n",
    "some_array1 = np.array((1, 2, 3, 4, 5)) # Will create an array from a tuple\n",
    "\n",
    "some_array2 = np.array(\"Hello, World!\") # Will create an array of strings from a string"
   ]
  },
  {
   "cell_type": "markdown",
   "id": "9e0fda30",
   "metadata": {},
   "source": [
    "### All data types in Numpy"
   ]
  },
  {
   "cell_type": "code",
   "execution_count": 132,
   "id": "478e09c1",
   "metadata": {},
   "outputs": [
    {
     "data": {
      "text/plain": [
       "{'?': numpy.bool_,\n",
       " 0: numpy.bool_,\n",
       " 'byte': numpy.int8,\n",
       " 'b': numpy.int8,\n",
       " 1: numpy.int8,\n",
       " 'ubyte': numpy.uint8,\n",
       " 'B': numpy.uint8,\n",
       " 2: numpy.uint8,\n",
       " 'short': numpy.int16,\n",
       " 'h': numpy.int16,\n",
       " 3: numpy.int16,\n",
       " 'ushort': numpy.uint16,\n",
       " 'H': numpy.uint16,\n",
       " 4: numpy.uint16,\n",
       " 'i': numpy.int32,\n",
       " 5: numpy.int32,\n",
       " 'uint': numpy.uint64,\n",
       " 'I': numpy.uint32,\n",
       " 6: numpy.uint32,\n",
       " 'intp': numpy.int64,\n",
       " 'p': numpy.int64,\n",
       " 7: numpy.int64,\n",
       " 'uintp': numpy.uint64,\n",
       " 'P': numpy.uint64,\n",
       " 8: numpy.uint64,\n",
       " 'long': numpy.int64,\n",
       " 'l': numpy.int64,\n",
       " 'ulong': numpy.uint64,\n",
       " 'L': numpy.uint64,\n",
       " 'longlong': numpy.longlong,\n",
       " 'q': numpy.longlong,\n",
       " 9: numpy.longlong,\n",
       " 'ulonglong': numpy.ulonglong,\n",
       " 'Q': numpy.ulonglong,\n",
       " 10: numpy.ulonglong,\n",
       " 'half': numpy.float16,\n",
       " 'e': numpy.float16,\n",
       " 23: numpy.float16,\n",
       " 'f': numpy.float32,\n",
       " 11: numpy.float32,\n",
       " 'double': numpy.float64,\n",
       " 'd': numpy.float64,\n",
       " 12: numpy.float64,\n",
       " 'longdouble': numpy.longdouble,\n",
       " 'g': numpy.longdouble,\n",
       " 13: numpy.longdouble,\n",
       " 'cfloat': numpy.complex128,\n",
       " 'F': numpy.complex64,\n",
       " 14: numpy.complex64,\n",
       " 'cdouble': numpy.complex128,\n",
       " 'D': numpy.complex128,\n",
       " 15: numpy.complex128,\n",
       " 'clongdouble': numpy.clongdouble,\n",
       " 'G': numpy.clongdouble,\n",
       " 16: numpy.clongdouble,\n",
       " 'O': numpy.object_,\n",
       " 17: numpy.object_,\n",
       " 'S': numpy.bytes_,\n",
       " 18: numpy.bytes_,\n",
       " 'unicode': numpy.str_,\n",
       " 'U': numpy.str_,\n",
       " 19: numpy.str_,\n",
       " 'void': numpy.void,\n",
       " 'V': numpy.void,\n",
       " 20: numpy.void,\n",
       " 'M': numpy.datetime64,\n",
       " 21: numpy.datetime64,\n",
       " 'm': numpy.timedelta64,\n",
       " 22: numpy.timedelta64,\n",
       " 'b1': numpy.bool_,\n",
       " 'bool8': numpy.bool_,\n",
       " 'i8': numpy.int64,\n",
       " 'int64': numpy.int64,\n",
       " 'u8': numpy.uint64,\n",
       " 'uint64': numpy.uint64,\n",
       " 'f2': numpy.float16,\n",
       " 'float16': numpy.float16,\n",
       " 'f4': numpy.float32,\n",
       " 'float32': numpy.float32,\n",
       " 'f8': numpy.float64,\n",
       " 'float64': numpy.float64,\n",
       " 'c8': numpy.complex64,\n",
       " 'complex64': numpy.complex64,\n",
       " 'c16': numpy.complex128,\n",
       " 'complex128': numpy.complex128,\n",
       " 'object0': numpy.object_,\n",
       " 'bytes0': numpy.bytes_,\n",
       " 'str0': numpy.str_,\n",
       " 'void0': numpy.void,\n",
       " 'M8': numpy.datetime64,\n",
       " 'datetime64': numpy.datetime64,\n",
       " 'm8': numpy.timedelta64,\n",
       " 'timedelta64': numpy.timedelta64,\n",
       " 'int32': numpy.int32,\n",
       " 'i4': numpy.int32,\n",
       " 'uint32': numpy.uint32,\n",
       " 'u4': numpy.uint32,\n",
       " 'int16': numpy.int16,\n",
       " 'i2': numpy.int16,\n",
       " 'uint16': numpy.uint16,\n",
       " 'u2': numpy.uint16,\n",
       " 'int8': numpy.int8,\n",
       " 'i1': numpy.int8,\n",
       " 'uint8': numpy.uint8,\n",
       " 'u1': numpy.uint8,\n",
       " 'complex_': numpy.complex128,\n",
       " 'single': numpy.float32,\n",
       " 'csingle': numpy.complex64,\n",
       " 'singlecomplex': numpy.complex64,\n",
       " 'float_': numpy.float64,\n",
       " 'intc': numpy.int32,\n",
       " 'uintc': numpy.uint32,\n",
       " 'int_': numpy.int64,\n",
       " 'longfloat': numpy.longdouble,\n",
       " 'clongfloat': numpy.clongdouble,\n",
       " 'longcomplex': numpy.clongdouble,\n",
       " 'bool_': numpy.bool_,\n",
       " 'bytes_': numpy.bytes_,\n",
       " 'string_': numpy.bytes_,\n",
       " 'str_': numpy.str_,\n",
       " 'unicode_': numpy.str_,\n",
       " 'object_': numpy.object_,\n",
       " 'int': numpy.int64,\n",
       " 'float': numpy.float64,\n",
       " 'complex': numpy.complex128,\n",
       " 'bool': numpy.bool_,\n",
       " 'object': numpy.object_,\n",
       " 'str': numpy.str_,\n",
       " 'bytes': numpy.bytes_,\n",
       " 'a': numpy.bytes_,\n",
       " 'int0': numpy.int64,\n",
       " 'uint0': numpy.uint64}"
      ]
     },
     "execution_count": 132,
     "metadata": {},
     "output_type": "execute_result"
    }
   ],
   "source": [
    "np.sctypeDict"
   ]
  },
  {
   "cell_type": "markdown",
   "id": "212853c6",
   "metadata": {},
   "source": [
    "## Auto-fill functions"
   ]
  },
  {
   "cell_type": "markdown",
   "id": "16d84714",
   "metadata": {},
   "source": [
    "##### That`s how it is done without Numpy"
   ]
  },
  {
   "cell_type": "code",
   "execution_count": 133,
   "id": "82d07834",
   "metadata": {},
   "outputs": [
    {
     "data": {
      "text/plain": [
       "array([ 0,  1,  2,  3,  4,  5,  6,  7,  8,  9, 10, 11, 12, 13, 14])"
      ]
     },
     "execution_count": 133,
     "metadata": {},
     "output_type": "execute_result"
    }
   ],
   "source": [
    "np.array([0]*15)\n",
    "\n",
    "np.array([x for x in range(15)])"
   ]
  },
  {
   "cell_type": "markdown",
   "id": "824595ab",
   "metadata": {},
   "source": [
    "### Empty function"
   ]
  },
  {
   "cell_type": "code",
   "execution_count": 134,
   "id": "00f0034f",
   "metadata": {},
   "outputs": [
    {
     "data": {
      "text/plain": [
       "array([[          0,  1075838976, -1789415188,  1076213536],\n",
       "       [-2120171215,  1076721893,           0,  1077149696]], dtype=int32)"
      ]
     },
     "execution_count": 134,
     "metadata": {},
     "output_type": "execute_result"
    }
   ],
   "source": [
    "np.empty((2, 4), \"int32\") # creates an empty mattrix"
   ]
  },
  {
   "cell_type": "markdown",
   "id": "582fff3b",
   "metadata": {},
   "source": [
    "### Eye function"
   ]
  },
  {
   "cell_type": "code",
   "execution_count": 135,
   "id": "d4884185",
   "metadata": {},
   "outputs": [
    {
     "data": {
      "text/plain": [
       "array([[1, 0, 0, 0, 0],\n",
       "       [0, 1, 0, 0, 0],\n",
       "       [0, 0, 1, 0, 0],\n",
       "       [0, 0, 0, 1, 0]], dtype=int32)"
      ]
     },
     "execution_count": 135,
     "metadata": {},
     "output_type": "execute_result"
    }
   ],
   "source": [
    "np.eye(4, 5, 0, \"int32\") # creates mattrix with 1 on the main diagonal"
   ]
  },
  {
   "cell_type": "markdown",
   "id": "15416ba1",
   "metadata": {},
   "source": [
    "### Identity function"
   ]
  },
  {
   "cell_type": "code",
   "execution_count": 136,
   "id": "05283cb5",
   "metadata": {},
   "outputs": [
    {
     "data": {
      "text/plain": [
       "array([[1, 0, 0, 0, 0, 0, 0, 0],\n",
       "       [0, 1, 0, 0, 0, 0, 0, 0],\n",
       "       [0, 0, 1, 0, 0, 0, 0, 0],\n",
       "       [0, 0, 0, 1, 0, 0, 0, 0],\n",
       "       [0, 0, 0, 0, 1, 0, 0, 0],\n",
       "       [0, 0, 0, 0, 0, 1, 0, 0],\n",
       "       [0, 0, 0, 0, 0, 0, 1, 0],\n",
       "       [0, 0, 0, 0, 0, 0, 0, 1]], dtype=int32)"
      ]
     },
     "execution_count": 136,
     "metadata": {},
     "output_type": "execute_result"
    }
   ],
   "source": [
    "np.identity(8, \"int32\") # creates square mattrix with 1 on the main diagonal"
   ]
  },
  {
   "cell_type": "markdown",
   "id": "07012493",
   "metadata": {},
   "source": [
    "### Ones function"
   ]
  },
  {
   "cell_type": "code",
   "execution_count": 137,
   "id": "480249cf",
   "metadata": {},
   "outputs": [
    {
     "data": {
      "text/plain": [
       "array([[1, 1, 1, 1, 1, 1, 1, 1, 1],\n",
       "       [1, 1, 1, 1, 1, 1, 1, 1, 1],\n",
       "       [1, 1, 1, 1, 1, 1, 1, 1, 1],\n",
       "       [1, 1, 1, 1, 1, 1, 1, 1, 1],\n",
       "       [1, 1, 1, 1, 1, 1, 1, 1, 1],\n",
       "       [1, 1, 1, 1, 1, 1, 1, 1, 1],\n",
       "       [1, 1, 1, 1, 1, 1, 1, 1, 1],\n",
       "       [1, 1, 1, 1, 1, 1, 1, 1, 1]], dtype=int32)"
      ]
     },
     "execution_count": 137,
     "metadata": {},
     "output_type": "execute_result"
    }
   ],
   "source": [
    "np.ones((8, 9), \"int32\") # creates  mattrix with 1 in all values"
   ]
  },
  {
   "cell_type": "markdown",
   "id": "bf6bb4e1",
   "metadata": {},
   "source": [
    "### Zeros function"
   ]
  },
  {
   "cell_type": "code",
   "execution_count": 138,
   "id": "62bc4bbb",
   "metadata": {},
   "outputs": [
    {
     "data": {
      "text/plain": [
       "array([[0, 0, 0, 0, 0, 0, 0, 0, 0],\n",
       "       [0, 0, 0, 0, 0, 0, 0, 0, 0],\n",
       "       [0, 0, 0, 0, 0, 0, 0, 0, 0],\n",
       "       [0, 0, 0, 0, 0, 0, 0, 0, 0],\n",
       "       [0, 0, 0, 0, 0, 0, 0, 0, 0],\n",
       "       [0, 0, 0, 0, 0, 0, 0, 0, 0],\n",
       "       [0, 0, 0, 0, 0, 0, 0, 0, 0],\n",
       "       [0, 0, 0, 0, 0, 0, 0, 0, 0]], dtype=int32)"
      ]
     },
     "execution_count": 138,
     "metadata": {},
     "output_type": "execute_result"
    }
   ],
   "source": [
    "np.zeros((8, 9), \"int32\") # creates mattrix with 0 in all the values"
   ]
  },
  {
   "cell_type": "markdown",
   "id": "2764e97f",
   "metadata": {},
   "source": [
    "### Full function"
   ]
  },
  {
   "cell_type": "code",
   "execution_count": 139,
   "id": "1e73fa46",
   "metadata": {},
   "outputs": [
    {
     "data": {
      "text/plain": [
       "array([[777, 777, 777],\n",
       "       [777, 777, 777],\n",
       "       [777, 777, 777]], dtype=int32)"
      ]
     },
     "execution_count": 139,
     "metadata": {},
     "output_type": "execute_result"
    }
   ],
   "source": [
    "np.full((3, 3), 777, \"int32\") # creates mattrix with 0 in all the values"
   ]
  },
  {
   "cell_type": "markdown",
   "id": "cba48c7a",
   "metadata": {},
   "source": [
    "## Mattrix creators"
   ]
  },
  {
   "cell_type": "markdown",
   "id": "5ee59e19",
   "metadata": {},
   "source": [
    "### mat function"
   ]
  },
  {
   "cell_type": "code",
   "execution_count": 140,
   "id": "1347b6e9",
   "metadata": {},
   "outputs": [
    {
     "data": {
      "text/plain": [
       "matrix([[1, 2],\n",
       "        [3, 4]])"
      ]
     },
     "execution_count": 140,
     "metadata": {},
     "output_type": "execute_result"
    }
   ],
   "source": [
    "np.mat('1 2 3 4') # creates mattrix from given values 1x4\n",
    "np.mat('1, 2, 3, 4') # 1x4\n",
    "np.mat('1, 2; 3, 4') # 2x4"
   ]
  },
  {
   "cell_type": "markdown",
   "id": "bd990795",
   "metadata": {},
   "source": [
    "### diag function"
   ]
  },
  {
   "cell_type": "code",
   "execution_count": 141,
   "id": "0bd405ce",
   "metadata": {},
   "outputs": [
    {
     "data": {
      "text/plain": [
       "array([1, 5, 9])"
      ]
     },
     "execution_count": 141,
     "metadata": {},
     "output_type": "execute_result"
    }
   ],
   "source": [
    "np.diag([1, 2, 3, 4])\n",
    "np.diag([(1, 2, 3), (4, 5, 6), (7, 8, 9)])"
   ]
  },
  {
   "cell_type": "markdown",
   "id": "4d614aa1",
   "metadata": {},
   "source": [
    "### diagflat function"
   ]
  },
  {
   "cell_type": "code",
   "execution_count": 142,
   "id": "6ca83d87",
   "metadata": {},
   "outputs": [
    {
     "data": {
      "text/plain": [
       "array([[1, 0, 0, 0, 0, 0, 0, 0, 0],\n",
       "       [0, 2, 0, 0, 0, 0, 0, 0, 0],\n",
       "       [0, 0, 3, 0, 0, 0, 0, 0, 0],\n",
       "       [0, 0, 0, 4, 0, 0, 0, 0, 0],\n",
       "       [0, 0, 0, 0, 5, 0, 0, 0, 0],\n",
       "       [0, 0, 0, 0, 0, 6, 0, 0, 0],\n",
       "       [0, 0, 0, 0, 0, 0, 7, 0, 0],\n",
       "       [0, 0, 0, 0, 0, 0, 0, 8, 0],\n",
       "       [0, 0, 0, 0, 0, 0, 0, 0, 9]])"
      ]
     },
     "execution_count": 142,
     "metadata": {},
     "output_type": "execute_result"
    }
   ],
   "source": [
    "np.diagflat([(1, 2, 3), (4, 5, 6), (7, 8, 9)])"
   ]
  },
  {
   "cell_type": "markdown",
   "id": "269b6462",
   "metadata": {},
   "source": [
    "### tri function"
   ]
  },
  {
   "cell_type": "code",
   "execution_count": 143,
   "id": "504d4d3f",
   "metadata": {},
   "outputs": [
    {
     "data": {
      "text/plain": [
       "array([[1., 0., 0., 0., 0., 0.],\n",
       "       [1., 1., 0., 0., 0., 0.],\n",
       "       [1., 1., 1., 0., 0., 0.],\n",
       "       [1., 1., 1., 1., 0., 0.]])"
      ]
     },
     "execution_count": 143,
     "metadata": {},
     "output_type": "execute_result"
    }
   ],
   "source": [
    "np.tri(4, 6)"
   ]
  },
  {
   "cell_type": "markdown",
   "id": "1aad09c4",
   "metadata": {},
   "source": [
    "### tril function"
   ]
  },
  {
   "cell_type": "code",
   "execution_count": 144,
   "id": "fd22e136",
   "metadata": {},
   "outputs": [
    {
     "data": {
      "text/plain": [
       "array([[1, 0, 0],\n",
       "       [4, 5, 0],\n",
       "       [7, 8, 9]])"
      ]
     },
     "execution_count": 144,
     "metadata": {},
     "output_type": "execute_result"
    }
   ],
   "source": [
    "a = np.array([(1, 2, 3), (4, 5, 6), (7, 8, 9)])\n",
    "np.tril(a)"
   ]
  },
  {
   "cell_type": "markdown",
   "id": "3486d04e",
   "metadata": {},
   "source": [
    "### triu function"
   ]
  },
  {
   "cell_type": "code",
   "execution_count": 145,
   "id": "ea3ac9a5",
   "metadata": {},
   "outputs": [
    {
     "data": {
      "text/plain": [
       "array([[1, 2, 3],\n",
       "       [0, 5, 6],\n",
       "       [0, 0, 9]])"
      ]
     },
     "execution_count": 145,
     "metadata": {},
     "output_type": "execute_result"
    }
   ],
   "source": [
    "a = np.array([(1, 2, 3), (4, 5, 6), (7, 8, 9)])\n",
    "np.triu(a)"
   ]
  },
  {
   "cell_type": "markdown",
   "id": "1adaa800",
   "metadata": {},
   "source": [
    "### vander function"
   ]
  },
  {
   "cell_type": "code",
   "execution_count": 146,
   "id": "46ab9f22",
   "metadata": {},
   "outputs": [
    {
     "data": {
      "text/plain": [
       "array([[1, 1, 1],\n",
       "       [4, 2, 1],\n",
       "       [9, 3, 1]])"
      ]
     },
     "execution_count": 146,
     "metadata": {},
     "output_type": "execute_result"
    }
   ],
   "source": [
    "\n",
    "np.vander([1, 2, 3])"
   ]
  },
  {
   "cell_type": "markdown",
   "id": "64cc2da7",
   "metadata": {},
   "source": [
    "## Numeric diapasons"
   ]
  },
  {
   "cell_type": "markdown",
   "id": "134cbfd1",
   "metadata": {},
   "source": [
    "### arange function"
   ]
  },
  {
   "cell_type": "code",
   "execution_count": 147,
   "id": "c9b2cfaf",
   "metadata": {},
   "outputs": [
    {
     "ename": "AttributeError",
     "evalue": "module 'numpy' has no attribute 'arcange'",
     "output_type": "error",
     "traceback": [
      "\u001b[0;31m---------------------------------------------------------------------------\u001b[0m",
      "\u001b[0;31mAttributeError\u001b[0m                            Traceback (most recent call last)",
      "Cell \u001b[0;32mIn[147], line 1\u001b[0m\n\u001b[0;32m----> 1\u001b[0m np\u001b[38;5;241m.\u001b[39marcange(\u001b[38;5;241m8\u001b[39m)\n",
      "File \u001b[0;32m/opt/anaconda3/lib/python3.12/site-packages/numpy/__init__.py:333\u001b[0m, in \u001b[0;36m__getattr__\u001b[0;34m(attr)\u001b[0m\n\u001b[1;32m    330\u001b[0m     \u001b[38;5;124m\"\u001b[39m\u001b[38;5;124mRemoved in NumPy 1.25.0\u001b[39m\u001b[38;5;124m\"\u001b[39m\n\u001b[1;32m    331\u001b[0m     \u001b[38;5;28;01mraise\u001b[39;00m \u001b[38;5;167;01mRuntimeError\u001b[39;00m(\u001b[38;5;124m\"\u001b[39m\u001b[38;5;124mTester was removed in NumPy 1.25.\u001b[39m\u001b[38;5;124m\"\u001b[39m)\n\u001b[0;32m--> 333\u001b[0m \u001b[38;5;28;01mraise\u001b[39;00m \u001b[38;5;167;01mAttributeError\u001b[39;00m(\u001b[38;5;124m\"\u001b[39m\u001b[38;5;124mmodule \u001b[39m\u001b[38;5;132;01m{!r}\u001b[39;00m\u001b[38;5;124m has no attribute \u001b[39m\u001b[38;5;124m\"\u001b[39m\n\u001b[1;32m    334\u001b[0m                      \u001b[38;5;124m\"\u001b[39m\u001b[38;5;132;01m{!r}\u001b[39;00m\u001b[38;5;124m\"\u001b[39m\u001b[38;5;241m.\u001b[39mformat(\u001b[38;5;18m__name__\u001b[39m, attr))\n",
      "\u001b[0;31mAttributeError\u001b[0m: module 'numpy' has no attribute 'arcange'"
     ]
    }
   ],
   "source": [
    "np.arcange(8)"
   ]
  },
  {
   "cell_type": "markdown",
   "id": "479e0329",
   "metadata": {},
   "source": [
    "### linspace function"
   ]
  },
  {
   "cell_type": "code",
   "execution_count": null,
   "id": "b37e7b2e",
   "metadata": {},
   "outputs": [
    {
     "data": {
      "text/plain": [
       "array([ 8. ,  9.2, 10.4, 11.6, 12.8, 14. , 15.2, 16.4, 17.6, 18.8, 20. ])"
      ]
     },
     "execution_count": 85,
     "metadata": {},
     "output_type": "execute_result"
    }
   ],
   "source": [
    "np.linspace(8, 20)"
   ]
  },
  {
   "cell_type": "markdown",
   "id": "aa073da9",
   "metadata": {},
   "source": [
    "### logspace function"
   ]
  },
  {
   "cell_type": "code",
   "execution_count": null,
   "id": "f4afb9fc",
   "metadata": {},
   "outputs": [
    {
     "data": {
      "text/plain": [
       "array([1.e+08, 1.e+12, 1.e+16, 1.e+20])"
      ]
     },
     "execution_count": 88,
     "metadata": {},
     "output_type": "execute_result"
    }
   ],
   "source": [
    "np.logspace(8, 20, 4)"
   ]
  },
  {
   "cell_type": "markdown",
   "id": "31533756",
   "metadata": {},
   "source": [
    "### geomspace function"
   ]
  },
  {
   "cell_type": "code",
   "execution_count": null,
   "id": "52a85c8e",
   "metadata": {},
   "outputs": [
    {
     "data": {
      "text/plain": [
       "array([ 8.        , 10.85767047, 14.73612599, 20.        ])"
      ]
     },
     "execution_count": 89,
     "metadata": {},
     "output_type": "execute_result"
    }
   ],
   "source": [
    "np.geomspace(8, 20, 4)"
   ]
  },
  {
   "cell_type": "markdown",
   "id": "b7779f12",
   "metadata": {},
   "source": [
    "## Copying arrays"
   ]
  },
  {
   "cell_type": "markdown",
   "id": "3012da20",
   "metadata": {},
   "source": [
    "### copy"
   ]
  },
  {
   "cell_type": "code",
   "execution_count": null,
   "id": "83ebce94",
   "metadata": {},
   "outputs": [
    {
     "data": {
      "text/plain": [
       "array([[0, 1, 2, 3, 4, 5, 6, 7, 8, 9]])"
      ]
     },
     "execution_count": 91,
     "metadata": {},
     "output_type": "execute_result"
    }
   ],
   "source": [
    "a = np.array([range(10)])\n",
    "b = np.copy(a)\n",
    "b"
   ]
  },
  {
   "cell_type": "markdown",
   "id": "c54f556a",
   "metadata": {},
   "source": [
    "### fromfunction"
   ]
  },
  {
   "cell_type": "code",
   "execution_count": null,
   "id": "6deb0f34",
   "metadata": {},
   "outputs": [
    {
     "data": {
      "text/plain": [
       "array([[  0.,   1.],\n",
       "       [100., 101.]])"
      ]
     },
     "execution_count": 92,
     "metadata": {},
     "output_type": "execute_result"
    }
   ],
   "source": [
    "a = np.array([range(10)])\n",
    "\n",
    "def getRange(x, y):\n",
    "    return 100*x + y\n",
    "\n",
    "np.fromfunction(getRange, (2, 2))"
   ]
  },
  {
   "cell_type": "markdown",
   "id": "b93250af",
   "metadata": {},
   "source": [
    "### fromiter"
   ]
  },
  {
   "cell_type": "code",
   "execution_count": null,
   "id": "0d65fcd7",
   "metadata": {},
   "outputs": [
    {
     "data": {
      "text/plain": [
       "array(['H', 'e', 'l', 'l', 'o'], dtype='<U1')"
      ]
     },
     "execution_count": 95,
     "metadata": {},
     "output_type": "execute_result"
    }
   ],
   "source": [
    "np.fromiter(\"Hello\", dtype=\"U1\")"
   ]
  },
  {
   "cell_type": "markdown",
   "id": "2104a079",
   "metadata": {},
   "source": [
    "### fromstring"
   ]
  },
  {
   "cell_type": "code",
   "execution_count": null,
   "id": "e23632d5",
   "metadata": {},
   "outputs": [
    {
     "data": {
      "text/plain": [
       "array([1, 1, 3], dtype=int32)"
      ]
     },
     "execution_count": 99,
     "metadata": {},
     "output_type": "execute_result"
    }
   ],
   "source": [
    "np.fromstring(\"1;1;3\", dtype=\"int32\", sep=\";\")"
   ]
  },
  {
   "cell_type": "markdown",
   "id": "67459738",
   "metadata": {},
   "source": [
    "## Array properties"
   ]
  },
  {
   "cell_type": "markdown",
   "id": "a9f463c5",
   "metadata": {},
   "source": [
    "### dtype"
   ]
  },
  {
   "cell_type": "code",
   "execution_count": null,
   "id": "51a33f89",
   "metadata": {},
   "outputs": [
    {
     "data": {
      "text/plain": [
       "dtype('int64')"
      ]
     },
     "execution_count": 100,
     "metadata": {},
     "output_type": "execute_result"
    }
   ],
   "source": [
    "a = np.array([1, 2, 3, 4, 5])\n",
    "a.dtype # returns data type of the array\n",
    "a.dtype = np.float32 # changing data type property"
   ]
  },
  {
   "cell_type": "markdown",
   "id": "3286522d",
   "metadata": {},
   "source": [
    "### itemsize"
   ]
  },
  {
   "cell_type": "code",
   "execution_count": null,
   "id": "12c0953b",
   "metadata": {},
   "outputs": [
    {
     "data": {
      "text/plain": [
       "8"
      ]
     },
     "execution_count": 102,
     "metadata": {},
     "output_type": "execute_result"
    }
   ],
   "source": [
    "a.itemsize # returns the size of an array element"
   ]
  },
  {
   "cell_type": "markdown",
   "id": "1bb0bc23",
   "metadata": {},
   "source": [
    "### ndim"
   ]
  },
  {
   "cell_type": "code",
   "execution_count": null,
   "id": "ebaecb26",
   "metadata": {},
   "outputs": [
    {
     "data": {
      "text/plain": [
       "3"
      ]
     },
     "execution_count": 103,
     "metadata": {},
     "output_type": "execute_result"
    }
   ],
   "source": [
    "b = np.zeros((3, 3, 3, 4))\n",
    "b.ndim # returns the dimentions of an array"
   ]
  },
  {
   "cell_type": "markdown",
   "id": "716fb1bb",
   "metadata": {},
   "source": [
    "### size"
   ]
  },
  {
   "cell_type": "code",
   "execution_count": null,
   "id": "d221c570",
   "metadata": {},
   "outputs": [
    {
     "data": {
      "text/plain": [
       "108"
      ]
     },
     "execution_count": 105,
     "metadata": {},
     "output_type": "execute_result"
    }
   ],
   "source": [
    "b = np.zeros((3, 3, 3, 4))\n",
    "b.size # returns the quanity of elements of the array"
   ]
  },
  {
   "cell_type": "markdown",
   "id": "d82c369b",
   "metadata": {},
   "source": [
    "### shape"
   ]
  },
  {
   "cell_type": "code",
   "execution_count": null,
   "id": "6d23085f",
   "metadata": {},
   "outputs": [],
   "source": [
    "b = np.zeros((3, 3, 3, 4))\n",
    "b.shape # returns the shape of an array\n",
    "b.shape = (4, 3, 3, 3)"
   ]
  },
  {
   "cell_type": "code",
   "execution_count": null,
   "id": "e7bf2c58",
   "metadata": {},
   "outputs": [
    {
     "data": {
      "text/plain": [
       "array([[[ 0,  1,  2,  3],\n",
       "        [ 4,  5,  6,  7],\n",
       "        [ 8,  9, 10, 11],\n",
       "        [12, 13, 14, 15],\n",
       "        [16, 17, 18, 19]],\n",
       "\n",
       "       [[20, 21, 22, 23],\n",
       "        [24, 25, 26, 27],\n",
       "        [28, 29, 30, 31],\n",
       "        [32, 33, 34, 35],\n",
       "        [36, 37, 38, 39]],\n",
       "\n",
       "       [[40, 41, 42, 43],\n",
       "        [44, 45, 46, 47],\n",
       "        [48, 49, 50, 51],\n",
       "        [52, 53, 54, 55],\n",
       "        [56, 57, 58, 59]],\n",
       "\n",
       "       [[60, 61, 62, 63],\n",
       "        [64, 65, 66, 67],\n",
       "        [68, 69, 70, 71],\n",
       "        [72, 73, 74, 75],\n",
       "        [76, 77, 78, 79]],\n",
       "\n",
       "       [[80, 81, 82, 83],\n",
       "        [84, 85, 86, 87],\n",
       "        [88, 89, 90, 91],\n",
       "        [92, 93, 94, 95],\n",
       "        [96, 97, 98, 99]]])"
      ]
     },
     "execution_count": 111,
     "metadata": {},
     "output_type": "execute_result"
    }
   ],
   "source": [
    "b = np.arange(100)\n",
    "b.shape = -1, 5, 4 # the first parameter will be chosen automatically\n",
    "b"
   ]
  },
  {
   "cell_type": "markdown",
   "id": "f3f6f2bb",
   "metadata": {},
   "source": [
    "### reshape"
   ]
  },
  {
   "cell_type": "code",
   "execution_count": null,
   "id": "64ca56f4",
   "metadata": {},
   "outputs": [],
   "source": [
    "b = np.zeros((3, 3, 3, 4))\n",
    "c = b.reshape(1, 108)\n",
    "\"\"\"\n",
    "    b and c are still linked to the same array\n",
    "\"\"\""
   ]
  },
  {
   "cell_type": "markdown",
   "id": "19d59e6d",
   "metadata": {},
   "source": [
    "### transponate"
   ]
  },
  {
   "cell_type": "code",
   "execution_count": null,
   "id": "4b5c93e3",
   "metadata": {},
   "outputs": [
    {
     "data": {
      "text/plain": [
       "array([[  0, 777,   2,   3,   4,   5,   6,   7,   8,   9],\n",
       "       [ 10, 777,  12,  13,  14,  15,  16,  17,  18,  19],\n",
       "       [ 20, 777,  22,  23,  24,  25,  26,  27,  28,  29],\n",
       "       [ 30, 777,  32,  33,  34,  35,  36,  37,  38,  39],\n",
       "       [ 40, 777,  42,  43,  44,  45,  46,  47,  48,  49],\n",
       "       [ 50, 777,  52,  53,  54,  55,  56,  57,  58,  59],\n",
       "       [ 60, 777,  62,  63,  64,  65,  66,  67,  68,  69],\n",
       "       [ 70, 777,  72,  73,  74,  75,  76,  77,  78,  79],\n",
       "       [ 80, 777,  82,  83,  84,  85,  86,  87,  88,  89],\n",
       "       [ 90, 777,  92,  93,  94,  95,  96,  97,  98,  99]])"
      ]
     },
     "execution_count": 107,
     "metadata": {},
     "output_type": "execute_result"
    }
   ],
   "source": [
    "b = np.arange((100))\n",
    "b.shape = (10, 10)\n",
    "d = b.T\n",
    "\"\"\"\n",
    "    b and d are still linked to the same data\n",
    "\"\"\"\n",
    "d[1] = 777\n",
    "b"
   ]
  },
  {
   "cell_type": "markdown",
   "id": "286ca75d",
   "metadata": {},
   "source": [
    "### view()"
   ]
  },
  {
   "cell_type": "code",
   "execution_count": null,
   "id": "62430ab6",
   "metadata": {},
   "outputs": [
    {
     "data": {
      "text/plain": [
       "array([[  0, 777,   2,   3,   4,   5,   6,   7,   8,   9],\n",
       "       [ 10, 777,  12,  13,  14,  15,  16,  17,  18,  19],\n",
       "       [ 20, 777,  22,  23,  24,  25,  26,  27,  28,  29],\n",
       "       [ 30, 777,  32,  33,  34,  35,  36,  37,  38,  39],\n",
       "       [ 40, 777,  42,  43,  44,  45,  46,  47,  48,  49],\n",
       "       [ 50, 777,  52,  53,  54,  55,  56,  57,  58,  59],\n",
       "       [ 60, 777,  62,  63,  64,  65,  66,  67,  68,  69],\n",
       "       [ 70, 777,  72,  73,  74,  75,  76,  77,  78,  79],\n",
       "       [ 80, 777,  82,  83,  84,  85,  86,  87,  88,  89],\n",
       "       [ 90, 777,  92,  93,  94,  95,  96,  97,  98,  99]])"
      ]
     },
     "metadata": {},
     "output_type": "display_data"
    }
   ],
   "source": [
    "b = np.arange((100))\n",
    "b.shape = (10, 10)\n",
    "c = b.T\n",
    "\"\"\"\n",
    "    c is linked to b directly\n",
    "\"\"\"\n",
    "c = b.view()\n",
    "\"\"\"\n",
    "    now c is linked to b`s data, but not to the b presentation directly\n",
    "\"\"\""
   ]
  },
  {
   "cell_type": "markdown",
   "id": "2ca2ee0e",
   "metadata": {},
   "source": [
    "### copying an array`s data"
   ]
  },
  {
   "cell_type": "code",
   "execution_count": null,
   "id": "b3c32366",
   "metadata": {},
   "outputs": [
    {
     "data": {
      "text/plain": [
       "array([[  0, 777,   2,   3,   4,   5,   6,   7,   8,   9],\n",
       "       [ 10, 777,  12,  13,  14,  15,  16,  17,  18,  19],\n",
       "       [ 20, 777,  22,  23,  24,  25,  26,  27,  28,  29],\n",
       "       [ 30, 777,  32,  33,  34,  35,  36,  37,  38,  39],\n",
       "       [ 40, 777,  42,  43,  44,  45,  46,  47,  48,  49],\n",
       "       [ 50, 777,  52,  53,  54,  55,  56,  57,  58,  59],\n",
       "       [ 60, 777,  62,  63,  64,  65,  66,  67,  68,  69],\n",
       "       [ 70, 777,  72,  73,  74,  75,  76,  77,  78,  79],\n",
       "       [ 80, 777,  82,  83,  84,  85,  86,  87,  88,  89],\n",
       "       [ 90, 777,  92,  93,  94,  95,  96,  97,  98,  99]])"
      ]
     },
     "metadata": {},
     "output_type": "display_data"
    }
   ],
   "source": [
    "b = np.arange((100))\n",
    "b.shape = (10, 10)\n",
    "c = np.array(b)\n",
    "\"\"\"\n",
    "    now c is not connected to b at all\n",
    "\"\"\"\n",
    "\n",
    "d = b.copy() #another way to create a copy"
   ]
  },
  {
   "cell_type": "markdown",
   "id": "49db5e52",
   "metadata": {},
   "source": [
    "### ravel"
   ]
  },
  {
   "cell_type": "code",
   "execution_count": null,
   "id": "50e30102",
   "metadata": {},
   "outputs": [
    {
     "data": {
      "text/plain": [
       "array([ 0,  1,  2,  3,  4,  5,  6,  7,  8,  9, 10, 11, 12, 13, 14, 15, 16,\n",
       "       17, 18, 19, 20, 21, 22, 23, 24, 25, 26, 27, 28, 29, 30, 31, 32, 33,\n",
       "       34, 35, 36, 37, 38, 39, 40, 41, 42, 43, 44, 45, 46, 47, 48, 49, 50,\n",
       "       51, 52, 53, 54, 55, 56, 57, 58, 59, 60, 61, 62, 63, 64, 65, 66, 67,\n",
       "       68, 69, 70, 71, 72, 73, 74, 75, 76, 77, 78, 79, 80, 81, 82, 83, 84,\n",
       "       85, 86, 87, 88, 89, 90, 91, 92, 93, 94, 95, 96, 97, 98, 99])"
      ]
     },
     "execution_count": 115,
     "metadata": {},
     "output_type": "execute_result"
    }
   ],
   "source": [
    "b = np.arange((100))\n",
    "b.shape = (10, 10)\n",
    "b.ravel() # turning matrix into vector\n",
    "b.shape = 10, 10\n",
    "b.shape = -1 # The same result"
   ]
  },
  {
   "cell_type": "markdown",
   "id": "fcc065f3",
   "metadata": {},
   "source": [
    "### resize"
   ]
  },
  {
   "cell_type": "code",
   "execution_count": null,
   "id": "bdbd3e61",
   "metadata": {},
   "outputs": [
    {
     "data": {
      "text/plain": [
       "array([[0, 1, 2, ..., 0, 0, 0],\n",
       "       [0, 0, 0, ..., 0, 0, 0],\n",
       "       [0, 0, 0, ..., 0, 0, 0],\n",
       "       ...,\n",
       "       [0, 0, 0, ..., 0, 0, 0],\n",
       "       [0, 0, 0, ..., 0, 0, 0],\n",
       "       [0, 0, 0, ..., 0, 0, 0]])"
      ]
     },
     "execution_count": 119,
     "metadata": {},
     "output_type": "execute_result"
    }
   ],
   "source": [
    "b = np.arange((100))\n",
    "b.resize(10, 10)\n",
    "# This method does not return any values but changes the presentation of an array itself\n",
    "\n",
    "b.resize(9, 9) # notice, that the number of elements is reduced\n",
    "b.resize(100, 100) # notice, that the number of elements is increased\n",
    "b"
   ]
  },
  {
   "cell_type": "markdown",
   "id": "929623bc",
   "metadata": {},
   "source": [
    "### expand_dims"
   ]
  },
  {
   "cell_type": "code",
   "execution_count": null,
   "id": "61c12833",
   "metadata": {},
   "outputs": [
    {
     "data": {
      "text/plain": [
       "array([[[ 0,  1,  2,  3,  4,  5,  6,  7,  8,  9],\n",
       "        [10, 11, 12, 13, 14, 15, 16, 17, 18, 19],\n",
       "        [20, 21, 22, 23, 24, 25, 26, 27, 28, 29],\n",
       "        [30, 31, 32, 33, 34, 35, 36, 37, 38, 39],\n",
       "        [40, 41, 42, 43, 44, 45, 46, 47, 48, 49],\n",
       "        [50, 51, 52, 53, 54, 55, 56, 57, 58, 59],\n",
       "        [60, 61, 62, 63, 64, 65, 66, 67, 68, 69],\n",
       "        [70, 71, 72, 73, 74, 75, 76, 77, 78, 79],\n",
       "        [80, 81, 82, 83, 84, 85, 86, 87, 88, 89],\n",
       "        [90, 91, 92, 93, 94, 95, 96, 97, 98, 99]]])"
      ]
     },
     "execution_count": 159,
     "metadata": {},
     "output_type": "execute_result"
    }
   ],
   "source": [
    "b = np.arange((100)).reshape(10, 10)\n",
    "b = np.expand_dims(b, axis=0)\n",
    "# a new axis is added to b\n",
    "b = np.expand_dims(b, axis=-1)\n",
    "# adds a new axis to the end of the array\n"
   ]
  },
  {
   "cell_type": "markdown",
   "id": "3c5acd43",
   "metadata": {},
   "source": [
    "### append and delete"
   ]
  },
  {
   "cell_type": "code",
   "execution_count": 170,
   "id": "18d64fa1",
   "metadata": {},
   "outputs": [
    {
     "data": {
      "text/plain": [
       "array([[ 10,  11,  12,  13,  14,  15,  16,  17,  18,  19],\n",
       "       [ 20,  21,  22,  23,  24,  25,  26,  27,  28,  29],\n",
       "       [ 30,  31,  32,  33,  34,  35,  36,  37,  38,  39],\n",
       "       [ 40,  41,  42,  43,  44,  45,  46,  47,  48,  49],\n",
       "       [ 50,  51,  52,  53,  54,  55,  56,  57,  58,  59],\n",
       "       [ 60,  61,  62,  63,  64,  65,  66,  67,  68,  69],\n",
       "       [ 70,  71,  72,  73,  74,  75,  76,  77,  78,  79],\n",
       "       [ 80,  81,  82,  83,  84,  85,  86,  87,  88,  89],\n",
       "       [ 90,  91,  92,  93,  94,  95,  96,  97,  98,  99],\n",
       "       [  1,   2,   3, 777, 777, 777, 777, 777, 777, 777]])"
      ]
     },
     "execution_count": 170,
     "metadata": {},
     "output_type": "execute_result"
    }
   ],
   "source": [
    "b = np.arange((100)).reshape(10, 10)\n",
    "b = np.append(b, [[1, 2, 3, 777, 777, 777, 777, 777, 777, 777]], axis=0)\n",
    "b = np.delete(b, 0, axis=0)\n",
    "b"
   ]
  }
 ],
 "metadata": {
  "kernelspec": {
   "display_name": "base",
   "language": "python",
   "name": "python3"
  },
  "language_info": {
   "codemirror_mode": {
    "name": "ipython",
    "version": 3
   },
   "file_extension": ".py",
   "mimetype": "text/x-python",
   "name": "python",
   "nbconvert_exporter": "python",
   "pygments_lexer": "ipython3",
   "version": "3.12.7"
  }
 },
 "nbformat": 4,
 "nbformat_minor": 5
}
